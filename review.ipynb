{
 "cells": [
  {
   "cell_type": "code",
   "execution_count": 21,
   "metadata": {},
   "outputs": [
    {
     "name": "stdout",
     "output_type": "stream",
     "text": [
      "1.13.1\n"
     ]
    }
   ],
   "source": [
    "from __future__ import absolute_import, division, print_function\n",
    "import tensorflow as tf\n",
    "from tensorflow import keras\n",
    "\n",
    "import numpy as np\n",
    "print(tf.__version__)\n",
    "imdb = keras.datasets.imdb\n",
    "(train_data, train_labels), (test_data, test_labels) = imdb.load_data(num_words=10000)\n"
   ]
  },
  {
   "cell_type": "code",
   "execution_count": 22,
   "metadata": {},
   "outputs": [
    {
     "name": "stdout",
     "output_type": "stream",
     "text": [
      "Training entries: 25000, labels: 25000\n"
     ]
    }
   ],
   "source": [
    "print(\"Training entries: {}, labels: {}\".format(len(train_data), len(train_labels)))"
   ]
  },
  {
   "cell_type": "code",
   "execution_count": 23,
   "metadata": {},
   "outputs": [
    {
     "name": "stdout",
     "output_type": "stream",
     "text": [
      "[1, 14, 22, 16, 43, 530, 973, 1622, 1385, 65, 458, 4468, 66, 3941, 4, 173, 36, 256, 5, 25, 100, 43, 838, 112, 50, 670, 2, 9, 35, 480, 284, 5, 150, 4, 172, 112, 167, 2, 336, 385, 39, 4, 172, 4536, 1111, 17, 546, 38, 13, 447, 4, 192, 50, 16, 6, 147, 2025, 19, 14, 22, 4, 1920, 4613, 469, 4, 22, 71, 87, 12, 16, 43, 530, 38, 76, 15, 13, 1247, 4, 22, 17, 515, 17, 12, 16, 626, 18, 2, 5, 62, 386, 12, 8, 316, 8, 106, 5, 4, 2223, 5244, 16, 480, 66, 3785, 33, 4, 130, 12, 16, 38, 619, 5, 25, 124, 51, 36, 135, 48, 25, 1415, 33, 6, 22, 12, 215, 28, 77, 52, 5, 14, 407, 16, 82, 2, 8, 4, 107, 117, 5952, 15, 256, 4, 2, 7, 3766, 5, 723, 36, 71, 43, 530, 476, 26, 400, 317, 46, 7, 4, 2, 1029, 13, 104, 88, 4, 381, 15, 297, 98, 32, 2071, 56, 26, 141, 6, 194, 7486, 18, 4, 226, 22, 21, 134, 476, 26, 480, 5, 144, 30, 5535, 18, 51, 36, 28, 224, 92, 25, 104, 4, 226, 65, 16, 38, 1334, 88, 12, 16, 283, 5, 16, 4472, 113, 103, 32, 15, 16, 5345, 19, 178, 32]\n"
     ]
    }
   ],
   "source": [
    "print(train_data[0])"
   ]
  },
  {
   "cell_type": "code",
   "execution_count": 24,
   "metadata": {},
   "outputs": [],
   "source": [
    "word_index = imdb.get_word_index()\n",
    "word_index = {k:(v+3) for k, v in word_index.items()}\n",
    "word_index[\"<PAD>\"] = 0\n",
    "word_index[\"<START>\"] =1\n",
    "word_index[\"<UNK>\"] = 2\n",
    "word_index[\"<UNUSED>\"] = 3\n",
    "reverse_word_index = dict([value, key] for (key, value) in word_index.items())\n",
    "def decode_review(text):\n",
    "    return ' '.join([reverse_word_index.get(i, '?') for i in text ])\n"
   ]
  },
  {
   "cell_type": "code",
   "execution_count": 25,
   "metadata": {},
   "outputs": [],
   "source": [
    "train_data = keras.preprocessing.sequence.pad_sequences(train_data, value=word_index[\"<PAD>\"], padding=\"post\", maxlen=256)"
   ]
  },
  {
   "cell_type": "code",
   "execution_count": 26,
   "metadata": {},
   "outputs": [],
   "source": [
    "test_data = keras.preprocessing.sequence.pad_sequences(test_data, value=word_index[\"<PAD>\"], padding=\"post\", maxlen=256)"
   ]
  },
  {
   "cell_type": "code",
   "execution_count": 27,
   "metadata": {},
   "outputs": [
    {
     "data": {
      "text/plain": [
       "\"<START> this film was just brilliant casting location scenery story direction everyone's really suited the part they played and you could just imagine being there robert <UNK> is an amazing actor and now the same being director <UNK> father came from the same scottish island as myself so i loved the fact there was a real connection with this film the witty remarks throughout the film were great it was just brilliant so much that i bought the film as soon as it was released for <UNK> and would recommend it to everyone to watch and the fly fishing was amazing really cried at the end it was so sad and you know what they say if you cry at a film it must have been good and this definitely was also <UNK> to the two little boy's that played the <UNK> of norman and paul they were just brilliant children are often left out of the <UNK> list i think because the stars that play them all grown up are such a big profile for the whole film but these children are amazing and should be praised for what they have done don't you think the whole story was so lovely because it was true and was someone's life after all that was shared with us all <PAD> <PAD> <PAD> <PAD> <PAD> <PAD> <PAD> <PAD> <PAD> <PAD> <PAD> <PAD> <PAD> <PAD> <PAD> <PAD> <PAD> <PAD> <PAD> <PAD> <PAD> <PAD> <PAD> <PAD> <PAD> <PAD> <PAD> <PAD> <PAD> <PAD> <PAD> <PAD> <PAD> <PAD> <PAD> <PAD> <PAD> <PAD>\""
      ]
     },
     "execution_count": 27,
     "metadata": {},
     "output_type": "execute_result"
    }
   ],
   "source": [
    "decode_review(train_data[0])"
   ]
  },
  {
   "cell_type": "code",
   "execution_count": 28,
   "metadata": {},
   "outputs": [
    {
     "data": {
      "text/plain": [
       "256"
      ]
     },
     "execution_count": 28,
     "metadata": {},
     "output_type": "execute_result"
    }
   ],
   "source": [
    "len(train_data[0])"
   ]
  },
  {
   "cell_type": "code",
   "execution_count": 40,
   "metadata": {},
   "outputs": [],
   "source": [
    "vocab_size = 10000\n",
    "model = keras.Sequential()\n",
    "model.add(keras.layers.Embedding(vocab_size, 16))"
   ]
  },
  {
   "cell_type": "code",
   "execution_count": 41,
   "metadata": {},
   "outputs": [],
   "source": [
    "model.add(keras.layers.GlobalAveragePooling1D())"
   ]
  },
  {
   "cell_type": "code",
   "execution_count": null,
   "metadata": {},
   "outputs": [],
   "source": []
  },
  {
   "cell_type": "code",
   "execution_count": 42,
   "metadata": {},
   "outputs": [],
   "source": [
    "model.add(keras.layers.Dense(16, activation=tf.nn.relu))\n",
    "model.add(keras.layers.Dense(1, activation=tf.nn.sigmoid))"
   ]
  },
  {
   "cell_type": "code",
   "execution_count": 43,
   "metadata": {},
   "outputs": [
    {
     "name": "stdout",
     "output_type": "stream",
     "text": [
      "_________________________________________________________________\n",
      "Layer (type)                 Output Shape              Param #   \n",
      "=================================================================\n",
      "embedding_1 (Embedding)      (None, None, 16)          160000    \n",
      "_________________________________________________________________\n",
      "global_average_pooling1d_1 ( (None, 16)                0         \n",
      "_________________________________________________________________\n",
      "dense_2 (Dense)              (None, 16)                272       \n",
      "_________________________________________________________________\n",
      "dense_3 (Dense)              (None, 1)                 17        \n",
      "=================================================================\n",
      "Total params: 160,289\n",
      "Trainable params: 160,289\n",
      "Non-trainable params: 0\n",
      "_________________________________________________________________\n"
     ]
    }
   ],
   "source": [
    "model.summary()"
   ]
  },
  {
   "cell_type": "code",
   "execution_count": 44,
   "metadata": {},
   "outputs": [],
   "source": [
    "model.compile(optimizer='adam',\n",
    "             loss='binary_crossentropy',\n",
    "             metrics=['acc'])"
   ]
  },
  {
   "cell_type": "code",
   "execution_count": 45,
   "metadata": {},
   "outputs": [],
   "source": [
    "x_val = train_data[: 10000]\n",
    "partial_x_train = train_data[10000:]\n",
    "y_val = train_labels[: 10000]\n",
    "partial_y_train = train_labels[10000:]\n"
   ]
  },
  {
   "cell_type": "code",
   "execution_count": 46,
   "metadata": {},
   "outputs": [
    {
     "name": "stdout",
     "output_type": "stream",
     "text": [
      "Train on 15000 samples, validate on 10000 samples\n",
      "Epoch 1/40\n",
      "15000/15000 [==============================] - 1s 81us/sample - loss: 0.6926 - acc: 0.5029 - val_loss: 0.6918 - val_acc: 0.4976\n",
      "Epoch 2/40\n",
      "15000/15000 [==============================] - 1s 48us/sample - loss: 0.6895 - acc: 0.5321 - val_loss: 0.6870 - val_acc: 0.5806\n",
      "Epoch 3/40\n",
      "15000/15000 [==============================] - 1s 48us/sample - loss: 0.6811 - acc: 0.7054 - val_loss: 0.6760 - val_acc: 0.7213\n",
      "Epoch 4/40\n",
      "15000/15000 [==============================] - 1s 55us/sample - loss: 0.6651 - acc: 0.7574 - val_loss: 0.6567 - val_acc: 0.7567\n",
      "Epoch 5/40\n",
      "15000/15000 [==============================] - 1s 49us/sample - loss: 0.6393 - acc: 0.7821 - val_loss: 0.6283 - val_acc: 0.7744\n",
      "Epoch 6/40\n",
      "15000/15000 [==============================] - 1s 48us/sample - loss: 0.6039 - acc: 0.7967 - val_loss: 0.5923 - val_acc: 0.7874\n",
      "Epoch 7/40\n",
      "15000/15000 [==============================] - 1s 48us/sample - loss: 0.5620 - acc: 0.8161 - val_loss: 0.5522 - val_acc: 0.8070\n",
      "Epoch 8/40\n",
      "15000/15000 [==============================] - 1s 55us/sample - loss: 0.5169 - acc: 0.8299 - val_loss: 0.5121 - val_acc: 0.8215\n",
      "Epoch 9/40\n",
      "15000/15000 [==============================] - 1s 50us/sample - loss: 0.4729 - acc: 0.8473 - val_loss: 0.4735 - val_acc: 0.8332\n",
      "Epoch 10/40\n",
      "15000/15000 [==============================] - 1s 64us/sample - loss: 0.4322 - acc: 0.8601 - val_loss: 0.4394 - val_acc: 0.8420\n",
      "Epoch 11/40\n",
      "15000/15000 [==============================] - 1s 69us/sample - loss: 0.3968 - acc: 0.8710 - val_loss: 0.4107 - val_acc: 0.8515\n",
      "Epoch 12/40\n",
      "15000/15000 [==============================] - 1s 57us/sample - loss: 0.3659 - acc: 0.8796 - val_loss: 0.3875 - val_acc: 0.8567\n",
      "Epoch 13/40\n",
      "15000/15000 [==============================] - 1s 48us/sample - loss: 0.3401 - acc: 0.8884 - val_loss: 0.3686 - val_acc: 0.8629\n",
      "Epoch 14/40\n",
      "15000/15000 [==============================] - 1s 55us/sample - loss: 0.3182 - acc: 0.8933 - val_loss: 0.3535 - val_acc: 0.8675\n",
      "Epoch 15/40\n",
      "15000/15000 [==============================] - 1s 54us/sample - loss: 0.2989 - acc: 0.8985 - val_loss: 0.3403 - val_acc: 0.8718\n",
      "Epoch 16/40\n",
      "15000/15000 [==============================] - 1s 62us/sample - loss: 0.2824 - acc: 0.9030 - val_loss: 0.3304 - val_acc: 0.8715\n",
      "Epoch 17/40\n",
      "15000/15000 [==============================] - 1s 68us/sample - loss: 0.2677 - acc: 0.9064 - val_loss: 0.3212 - val_acc: 0.8748\n",
      "Epoch 18/40\n",
      "15000/15000 [==============================] - 1s 62us/sample - loss: 0.2547 - acc: 0.9117 - val_loss: 0.3150 - val_acc: 0.8750\n",
      "Epoch 19/40\n",
      "15000/15000 [==============================] - 1s 52us/sample - loss: 0.2425 - acc: 0.9153 - val_loss: 0.3078 - val_acc: 0.8791\n",
      "Epoch 20/40\n",
      "15000/15000 [==============================] - 1s 58us/sample - loss: 0.2313 - acc: 0.9207 - val_loss: 0.3027 - val_acc: 0.8806\n",
      "Epoch 21/40\n",
      "15000/15000 [==============================] - 1s 53us/sample - loss: 0.2211 - acc: 0.9239 - val_loss: 0.2987 - val_acc: 0.8827\n",
      "Epoch 22/40\n",
      "15000/15000 [==============================] - 1s 62us/sample - loss: 0.2116 - acc: 0.9273 - val_loss: 0.2951 - val_acc: 0.8823\n",
      "Epoch 23/40\n",
      "15000/15000 [==============================] - 1s 56us/sample - loss: 0.2028 - acc: 0.9302 - val_loss: 0.2925 - val_acc: 0.8821\n",
      "Epoch 24/40\n",
      "15000/15000 [==============================] - 1s 54us/sample - loss: 0.1944 - acc: 0.9341 - val_loss: 0.2902 - val_acc: 0.8842\n",
      "Epoch 25/40\n",
      "15000/15000 [==============================] - 1s 60us/sample - loss: 0.1872 - acc: 0.9367 - val_loss: 0.2893 - val_acc: 0.8829\n",
      "Epoch 26/40\n",
      "15000/15000 [==============================] - 1s 55us/sample - loss: 0.1797 - acc: 0.9407 - val_loss: 0.2871 - val_acc: 0.8855\n",
      "Epoch 27/40\n",
      "15000/15000 [==============================] - 1s 63us/sample - loss: 0.1726 - acc: 0.9450 - val_loss: 0.2860 - val_acc: 0.8849\n",
      "Epoch 28/40\n",
      "15000/15000 [==============================] - 1s 50us/sample - loss: 0.1659 - acc: 0.9459 - val_loss: 0.2855 - val_acc: 0.8861\n",
      "Epoch 29/40\n",
      "15000/15000 [==============================] - 1s 55us/sample - loss: 0.1598 - acc: 0.9499 - val_loss: 0.2852 - val_acc: 0.8849\n",
      "Epoch 30/40\n",
      "15000/15000 [==============================] - 1s 58us/sample - loss: 0.1543 - acc: 0.9511 - val_loss: 0.2853 - val_acc: 0.8859\n",
      "Epoch 31/40\n",
      "15000/15000 [==============================] - 1s 55us/sample - loss: 0.1488 - acc: 0.9535 - val_loss: 0.2858 - val_acc: 0.8855\n",
      "Epoch 32/40\n",
      "15000/15000 [==============================] - 1s 57us/sample - loss: 0.1430 - acc: 0.9567 - val_loss: 0.2864 - val_acc: 0.8866\n",
      "Epoch 33/40\n",
      "15000/15000 [==============================] - 1s 60us/sample - loss: 0.1380 - acc: 0.9583 - val_loss: 0.2890 - val_acc: 0.8849\n",
      "Epoch 34/40\n",
      "15000/15000 [==============================] - 1s 55us/sample - loss: 0.1335 - acc: 0.9601 - val_loss: 0.2898 - val_acc: 0.8859\n",
      "Epoch 35/40\n",
      "15000/15000 [==============================] - 1s 51us/sample - loss: 0.1283 - acc: 0.9631 - val_loss: 0.2900 - val_acc: 0.8857\n",
      "Epoch 36/40\n",
      "15000/15000 [==============================] - 1s 53us/sample - loss: 0.1240 - acc: 0.9640 - val_loss: 0.2921 - val_acc: 0.8860\n",
      "Epoch 37/40\n",
      "15000/15000 [==============================] - 1s 62us/sample - loss: 0.1196 - acc: 0.9657 - val_loss: 0.2935 - val_acc: 0.8861\n",
      "Epoch 38/40\n",
      "15000/15000 [==============================] - 1s 55us/sample - loss: 0.1152 - acc: 0.9675 - val_loss: 0.2957 - val_acc: 0.8845\n",
      "Epoch 39/40\n",
      "15000/15000 [==============================] - 1s 58us/sample - loss: 0.1112 - acc: 0.9685 - val_loss: 0.2982 - val_acc: 0.8855\n",
      "Epoch 40/40\n",
      "15000/15000 [==============================] - 1s 51us/sample - loss: 0.1076 - acc: 0.9702 - val_loss: 0.3000 - val_acc: 0.8857\n"
     ]
    }
   ],
   "source": [
    "history = model.fit(partial_x_train,\n",
    "                    partial_y_train,\n",
    "                    epochs=40,\n",
    "                    batch_size=512,\n",
    "                    validation_data=(x_val, y_val),\n",
    "                    verbose=1)"
   ]
  },
  {
   "cell_type": "code",
   "execution_count": 47,
   "metadata": {},
   "outputs": [
    {
     "name": "stdout",
     "output_type": "stream",
     "text": [
      "25000/25000 [==============================] - 1s 32us/sample - loss: 0.3184 - acc: 0.8736\n"
     ]
    }
   ],
   "source": [
    "results = model.evaluate(test_data, test_labels)"
   ]
  },
  {
   "cell_type": "code",
   "execution_count": 48,
   "metadata": {},
   "outputs": [
    {
     "name": "stdout",
     "output_type": "stream",
     "text": [
      "[0.31840839634895324, 0.87364]\n"
     ]
    }
   ],
   "source": [
    "print(results)"
   ]
  },
  {
   "cell_type": "code",
   "execution_count": 49,
   "metadata": {},
   "outputs": [
    {
     "data": {
      "text/plain": [
       "dict_keys(['val_acc', 'acc', 'val_loss', 'loss'])"
      ]
     },
     "execution_count": 49,
     "metadata": {},
     "output_type": "execute_result"
    }
   ],
   "source": [
    "history_dict = history.history\n",
    "history_dict.keys()\n"
   ]
  },
  {
   "cell_type": "code",
   "execution_count": 50,
   "metadata": {},
   "outputs": [
    {
     "data": {
      "image/png": "[encoded data removed]",
      "text/plain": [
       "<Figure size 432x288 with 1 Axes>"
      ]
     },
     "metadata": {
      "needs_background": "light"
     },
     "output_type": "display_data"
    }
   ],
   "source": [
    "import matplotlib.pyplot as plt\n",
    "%matplotlib inline\n",
    "acc = history_dict['acc']\n",
    "val_acc = history_dict['val_acc']\n",
    "loss = history_dict['loss']\n",
    "val_loss = history_dict['val_loss']\n",
    "\n",
    "epochs = range(1, len(acc) + 1)\n",
    "\n",
    "# \"bo\" is for \"blue dot\"\n",
    "plt.plot(epochs, loss, 'bo', label='Training loss')\n",
    "# b is for \"solid blue line\"\n",
    "plt.plot(epochs, val_loss, 'b', label='Validation loss')\n",
    "plt.title('Training and validation loss')\n",
    "plt.xlabel('Epochs')\n",
    "plt.ylabel('Loss')\n",
    "plt.legend()\n",
    "\n",
    "plt.show()\n"
   ]
  },
  {
   "cell_type": "code",
   "execution_count": 51,
   "metadata": {},
   "outputs": [
    {
     "data": {
      "image/png": "[encoded data removed]",
      "text/plain": [
       "<Figure size 432x288 with 1 Axes>"
      ]
     },
     "metadata": {
      "needs_background": "light"
     },
     "output_type": "display_data"
    }
   ],
   "source": [
    "plt.clf()   # clear figure\n",
    "\n",
    "plt.plot(epochs, acc, 'bo', label='Training acc')\n",
    "plt.plot(epochs, val_acc, 'b', label='Validation acc')\n",
    "plt.title('Training and validation accuracy')\n",
    "plt.xlabel('Epochs')\n",
    "plt.ylabel('Accuracy')\n",
    "plt.legend()\n",
    "\n",
    "plt.show()\n"
   ]
  },
  {
   "cell_type": "code",
   "execution_count": null,
   "metadata": {},
   "outputs": [],
   "source": []
  }
 ],
 "metadata": {
  "kernelspec": {
   "display_name": "Python 3",
   "language": "python",
   "name": "python3"
  },
  "language_info": {
   "codemirror_mode": {
    "name": "ipython",
    "version": 3
   },
   "file_extension": ".py",
   "mimetype": "text/x-python",
   "name": "python",
   "nbconvert_exporter": "python",
   "pygments_lexer": "ipython3",
   "version": "3.5.6"
  }
 },
 "nbformat": 4,
 "nbformat_minor": 2
}
